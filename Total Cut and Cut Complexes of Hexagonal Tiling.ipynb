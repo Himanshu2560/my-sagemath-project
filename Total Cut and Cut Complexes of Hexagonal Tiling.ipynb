{
 "cells": [
  {
   "cell_type": "code",
   "execution_count": 49,
   "id": "ba853422",
   "metadata": {},
   "outputs": [],
   "source": [
    "# Function to construct the hexagonal line tiling\n",
    "\n",
    "def hexagonal_tiling_1k(k):\n",
    "    G = Graph()\n",
    "    for i in range(1, 2*k+1):\n",
    "        G.add_edges([(i, i+1)])\n",
    "        G.add_edges([(2*k+1+i, 2*k+2+i)])\n",
    "        \n",
    "    #G.add_edges([(4*k+2, 4*k+3)])        \n",
    "    \n",
    "    for j in range(1, 2*k+2,2):\n",
    "        G.add_edges([(j, 2*k+j+1)])\n",
    "        \n",
    "    for i in range(1, 2*k+1):\n",
    "        G.set_edge_label(i, i+1, f'a{i}')\n",
    "        G.set_edge_label(2*k+1+i, 2*k+2+i, f'b{i}')\n",
    "    \n",
    "    for j in range(1, 2*k+2,2):\n",
    "        G.set_edge_label(j, 2*k+j+1, f'c{(j+1)/2}')\n",
    "        \n",
    "    return G\n",
    "\n",
    "# Function to construct the double hexagonal line tiling\n",
    "\n",
    "def hexagonal_tiling_2k(k):\n",
    "    G = Graph()\n",
    "    for i in range(1, 2*k+1):\n",
    "        G.add_edges([(i, i+1)])\n",
    "        G.add_edges([(2*k+1+i, 2*k+2+i)])\n",
    "        G.add_edges([(4*k+3+i, 4*k+4+i)])\n",
    "        \n",
    "    G.add_edges([(4*k+2, 4*k+3)])        \n",
    "    \n",
    "    for j in range(1, 2*k+2,2):\n",
    "        G.add_edges([(j, 2*k+j+2)])\n",
    "        G.add_edges([(2*k+j+1, 4*k+j+3)])\n",
    "        \n",
    "    for i in range(1, 2*k+1):\n",
    "        G.set_edge_label(i, i+1, f'a{i}')\n",
    "        G.set_edge_label(2*k+1+i, 2*k+2+i, f'b{i}')\n",
    "        G.set_edge_label(4*k+3+i, 4*k+4+i, f'c{i}')\n",
    "        \n",
    "    G.set_edge_label(4*k+2, 4*k+3, f'b{2*k+1}')\n",
    "    \n",
    "    for j in range(1, 2*k+2,2):\n",
    "        G.set_edge_label(j, 2*k+j+2, f'd{(j+1)/2}')\n",
    "        G.set_edge_label(2*k+j+1, 4*k+j+3, f'e{(j+1)/2}')\n",
    "        \n",
    "    return G\n",
    "\n",
    "# Function to construct the triple hexagonal line tiling\n",
    "\n",
    "def hexagonal_tiling_3k(k):\n",
    "    G = Graph()\n",
    "    for i in range(1, 2*k+1):\n",
    "        G.add_edges([(i, i+1)])\n",
    "        G.add_edges([(2*k+1+i, 2*k+2+i)])\n",
    "        G.add_edges([(4*k+3+i, 4*k+4+i)])\n",
    "        G.add_edges([(6*k+5+i, 6*k+6+i)])\n",
    "        \n",
    "    G.add_edges([(4*k+2, 4*k+3)])        \n",
    "    \n",
    "    for j in range(1, 2*k+2,2):\n",
    "        G.add_edges([(j, 2*k+j+2)])\n",
    "        G.add_edges([(2*k+j+1, 4*k+j+4)])\n",
    "        G.add_edges([(4*k+j+3, 6*k+j+5)])\n",
    "        \n",
    "    G.add_edges([(6*k+4, 6*k+5)])\n",
    "        \n",
    "    for i in range(1, 2*k+1):\n",
    "        G.set_edge_label(i, i+1, f'a{i}')\n",
    "        G.set_edge_label(2*k+1+i, 2*k+2+i, f'b{i}')\n",
    "        G.set_edge_label(4*k+3+i, 4*k+4+i, f'c{i}')\n",
    "        G.set_edge_label(6*k+5+i, 6*k+6+i, f'd{i}')\n",
    "        \n",
    "    G.set_edge_label(4*k+2, 4*k+3, f'b{2*k+1}')\n",
    "    G.set_edge_label(6*k+4, 6*k+5, f'c{2*k+1}')\n",
    "    \n",
    "    for j in range(1, 2*k+2,2):\n",
    "        G.set_edge_label(j, 2*k+j+2, f'e{(j+1)/2}')\n",
    "        G.set_edge_label(2*k+j+1, 4*k+j+4, f'f{(j+1)/2}')\n",
    "        G.set_edge_label(4*k+j+3, 6*k+j+5, f'g{(j+1)/2}')\n",
    "        \n",
    "    return G"
   ]
  },
  {
   "cell_type": "code",
   "execution_count": 2,
   "id": "227321e9",
   "metadata": {},
   "outputs": [],
   "source": [
    "from sage.graphs.independent_sets import IndependentSets\n",
    "from sage.graphs.graph import Graph as SageGraph\n",
    "from sage.topology.simplicial_complex import SimplicialComplex\n",
    "\n",
    "def total_k_cc(G, k):\n",
    "    V_G = set(G.vertices())  # Use a set for fast difference operations\n",
    "    facets = []\n",
    "    \n",
    "    Ind_k = (x for x in IndependentSets(G) if len(x) == k)\n",
    "    \n",
    "    for ind_set_k in Ind_k:\n",
    "        facets.append(tuple(V_G - set(ind_set_k)))\n",
    "    \n",
    "    return SimplicialComplex(facets)\n",
    "\n",
    "def cutcomplex_k(G,k):\n",
    "    V = G.vertices(sort=True)\n",
    "    V_k = Set(V).subsets(k)\n",
    "    facets = []\n",
    "    H = []\n",
    "    for s in V_k:\n",
    "        if (G.subgraph(s)).is_connected() == 0:\n",
    "            facets.append(Set(V) - s)\n",
    "    X=SimplicialComplex(facets)\n",
    "    return(X)\n",
    "\n",
    "def faces(K):\n",
    "    facets = K.facets()\n",
    "    temp = []\n",
    "    faces = []\n",
    "    \n",
    "    for f in facets:\n",
    "        f_set = Set(f)\n",
    "        temp.extend(f_set.subsets())\n",
    "    \n",
    "    for t in Set(temp):\n",
    "        if len(t) == 1:\n",
    "            x = tuple(t)\n",
    "        else:\n",
    "            x = (*t,)\n",
    "        faces.append(x)\n",
    "    \n",
    "    return sorted(faces)\n",
    "\n",
    "def deletion(K, s):\n",
    "    Faces = faces(K)\n",
    "    deletion_faces = []\n",
    "\n",
    "    for f in Faces:\n",
    "        if (s in f) == 0:\n",
    "            deletion_faces.append(f)\n",
    "            \n",
    "    Deletion = SimplicialComplex(deletion_faces)\n",
    "\n",
    "    return Deletion"
   ]
  },
  {
   "cell_type": "code",
   "execution_count": null,
   "id": "6a353c6d",
   "metadata": {},
   "outputs": [],
   "source": []
  },
  {
   "cell_type": "code",
   "execution_count": null,
   "id": "dfe71064",
   "metadata": {},
   "outputs": [],
   "source": [
    "for i in range(2,8):\n",
    "    G = hexagonal_tiling_1k(i)\n",
    "    X = cutcomplex_k(G, 3)\n",
    "    print(i, X.homology(base_ring = GF(2)))"
   ]
  },
  {
   "cell_type": "code",
   "execution_count": null,
   "id": "b73c8c58",
   "metadata": {},
   "outputs": [],
   "source": []
  },
  {
   "cell_type": "code",
   "execution_count": 58,
   "id": "18af682e",
   "metadata": {},
   "outputs": [
    {
     "data": {
      "image/png": "[encoded data removed]",
      "text/plain": [
       "Graphics object consisting of 31 graphics primitives"
      ]
     },
     "metadata": {},
     "output_type": "display_data"
    }
   ],
   "source": [
    "G = hexagonal_tiling_1k(3)\n",
    "X = cutcomplex_k(G,3)\n",
    "G.show()"
   ]
  },
  {
   "cell_type": "code",
   "execution_count": 59,
   "id": "5c48bbc0",
   "metadata": {},
   "outputs": [
    {
     "data": {
      "text/plain": [
       "True"
      ]
     },
     "execution_count": 59,
     "metadata": {},
     "output_type": "execute_result"
    }
   ],
   "source": [
    "sorted(X.facets())\n",
    "X.is_shellable()"
   ]
  },
  {
   "cell_type": "code",
   "execution_count": 60,
   "id": "c56e775e",
   "metadata": {},
   "outputs": [
    {
     "data": {
      "text/plain": [
       "342"
      ]
     },
     "execution_count": 60,
     "metadata": {},
     "output_type": "execute_result"
    }
   ],
   "source": [
    "len(X.facets())"
   ]
  },
  {
   "cell_type": "code",
   "execution_count": 30,
   "id": "f2ffe996",
   "metadata": {},
   "outputs": [],
   "source": [
    "X = cutcomplex(G,3)\n",
    "Y = total_k_cc(G,3)"
   ]
  },
  {
   "cell_type": "code",
   "execution_count": 31,
   "id": "332b571b",
   "metadata": {},
   "outputs": [
    {
     "name": "stdout",
     "output_type": "stream",
     "text": [
      "[(0, 0), (0, 2), (1, 1)]\n",
      "[(0, 0), (1, 2)]\n",
      "[(0, 1), (1, 0), (1, 2)]\n",
      "[(0, 2), (1, 0)]\n"
     ]
    }
   ],
   "source": [
    "I = IndependentSets(G, 3)\n",
    "for s in I:\n",
    "    print(s)"
   ]
  },
  {
   "cell_type": "code",
   "execution_count": 32,
   "id": "4942df9e",
   "metadata": {},
   "outputs": [
    {
     "data": {
      "text/plain": [
       "[((0, 0), (1, 1), (0, 2)), ((0, 1), (1, 2), (1, 0))]"
      ]
     },
     "execution_count": 32,
     "metadata": {},
     "output_type": "execute_result"
    }
   ],
   "source": [
    "sorted(Y.facets())"
   ]
  },
  {
   "cell_type": "code",
   "execution_count": null,
   "id": "a107bc9e",
   "metadata": {},
   "outputs": [],
   "source": []
  },
  {
   "cell_type": "code",
   "execution_count": null,
   "id": "0941e376",
   "metadata": {},
   "outputs": [],
   "source": []
  },
  {
   "cell_type": "code",
   "execution_count": 1,
   "id": "0850cefe",
   "metadata": {},
   "outputs": [],
   "source": [
    "def hexagonal_tiling_1k(k):\n",
    "    G = Graph()\n",
    "    for i in range(1, 2*k+1):\n",
    "        G.add_edges([(i, i+1)])\n",
    "        G.add_edges([(2*k+1+i, 2*k+2+i)])\n",
    "        \n",
    "    return G\n",
    "\n",
    "def octagonal_tiling_1k(k):\n",
    "    G = Graph()\n",
    "    for i in range(1, 3*k+1):\n",
    "        G.add_edges([(i, i+1)])\n",
    "        G.add_edges([(3*k+1+i, 3*k+2+i)])\n",
    "    \n",
    "    for j in range(1, 3*k+2,3):\n",
    "        G.add_edges([(j, 3*k+j+1)])\n",
    "        \n",
    "    return G\n",
    "\n",
    "\n",
    "def pentagonal_tiling_1k(k):\n",
    "    G = Graph()\n",
    "    for i in range(1, 4*k+1):\n",
    "        G.add_edges([(i, i+1)])\n",
    "        G.add_edges([(4*k+1+i, 4*k+2+i)])\n",
    "    \n",
    "    for j in range(1, 4*k+2,4):\n",
    "        G.add_edges([(j, 4*k+j+1)])\n",
    "        \n",
    "    return G"
   ]
  },
  {
   "cell_type": "code",
   "execution_count": 22,
   "id": "9cc5d7fc",
   "metadata": {},
   "outputs": [
    {
     "data": {
      "text/plain": [
       "211"
      ]
     },
     "execution_count": 22,
     "metadata": {},
     "output_type": "execute_result"
    }
   ],
   "source": [
    "G1 = hexagonal_tiling_1k(5)\n",
    "X1 = cutcomplex_k(G1,2)\n",
    "\n",
    "#X1.is_shellable()\n",
    "\n",
    "len(X1.facets())"
   ]
  },
  {
   "cell_type": "code",
   "execution_count": 23,
   "id": "1d6651f1",
   "metadata": {
    "scrolled": false
   },
   "outputs": [
    {
     "data": {
      "text/plain": [
       "[(1, 2, 3, 4, 5, 6, 7, 8, 9, 10, 11, 12, 13, 14, 15, 16, 17, 18, 19, 21),\n",
       " (1, 2, 3, 4, 5, 6, 7, 8, 9, 10, 11, 12, 13, 14, 15, 16, 17, 18, 20, 21),\n",
       " (1, 2, 3, 4, 5, 6, 7, 8, 9, 10, 11, 12, 13, 14, 15, 16, 17, 18, 20, 22),\n",
       " (1, 2, 3, 4, 5, 6, 7, 8, 9, 10, 11, 12, 13, 14, 15, 16, 17, 19, 20, 21),\n",
       " (1, 2, 3, 4, 5, 6, 7, 8, 9, 10, 11, 12, 13, 14, 15, 16, 17, 19, 20, 22),\n",
       " (1, 2, 3, 4, 5, 6, 7, 8, 9, 10, 11, 12, 13, 14, 15, 16, 17, 19, 21, 22),\n",
       " (1, 2, 3, 4, 5, 6, 7, 8, 9, 10, 11, 12, 13, 14, 15, 16, 18, 19, 20, 21),\n",
       " (1, 2, 3, 4, 5, 6, 7, 8, 9, 10, 11, 12, 13, 14, 15, 16, 18, 19, 20, 22),\n",
       " (1, 2, 3, 4, 5, 6, 7, 8, 9, 10, 11, 12, 13, 14, 15, 16, 18, 19, 21, 22),\n",
       " (1, 2, 3, 4, 5, 6, 7, 8, 9, 10, 11, 12, 13, 14, 15, 16, 18, 20, 21, 22),\n",
       " (1, 2, 3, 4, 5, 6, 7, 8, 9, 10, 11, 12, 13, 14, 15, 17, 18, 19, 20, 21),\n",
       " (1, 2, 3, 4, 5, 6, 7, 8, 9, 10, 11, 12, 13, 14, 15, 17, 18, 19, 20, 22),\n",
       " (1, 2, 3, 4, 5, 6, 7, 8, 9, 10, 11, 12, 13, 14, 15, 17, 18, 19, 21, 22),\n",
       " (1, 2, 3, 4, 5, 6, 7, 8, 9, 10, 11, 12, 13, 14, 15, 17, 18, 20, 21, 22),\n",
       " (1, 2, 3, 4, 5, 6, 7, 8, 9, 10, 11, 12, 13, 14, 15, 17, 19, 20, 21, 22),\n",
       " (1, 2, 3, 4, 5, 6, 7, 8, 9, 10, 11, 12, 13, 14, 16, 17, 18, 19, 20, 21),\n",
       " (1, 2, 3, 4, 5, 6, 7, 8, 9, 10, 11, 12, 13, 14, 16, 17, 18, 19, 20, 22),\n",
       " (1, 2, 3, 4, 5, 6, 7, 8, 9, 10, 11, 12, 13, 14, 16, 17, 18, 19, 21, 22),\n",
       " (1, 2, 3, 4, 5, 6, 7, 8, 9, 10, 11, 12, 13, 14, 16, 17, 18, 20, 21, 22),\n",
       " (1, 2, 3, 4, 5, 6, 7, 8, 9, 10, 11, 12, 13, 14, 16, 17, 19, 20, 21, 22),\n",
       " (1, 2, 3, 4, 5, 6, 7, 8, 9, 10, 11, 12, 13, 14, 16, 18, 19, 20, 21, 22),\n",
       " (1, 2, 3, 4, 5, 6, 7, 8, 9, 10, 11, 12, 13, 15, 16, 17, 18, 19, 20, 21),\n",
       " (1, 2, 3, 4, 5, 6, 7, 8, 9, 10, 11, 12, 13, 15, 16, 17, 18, 19, 20, 22),\n",
       " (1, 2, 3, 4, 5, 6, 7, 8, 9, 10, 11, 12, 13, 15, 16, 17, 18, 19, 21, 22),\n",
       " (1, 2, 3, 4, 5, 6, 7, 8, 9, 10, 11, 12, 13, 15, 16, 17, 18, 20, 21, 22),\n",
       " (1, 2, 3, 4, 5, 6, 7, 8, 9, 10, 11, 12, 13, 15, 16, 17, 19, 20, 21, 22),\n",
       " (1, 2, 3, 4, 5, 6, 7, 8, 9, 10, 11, 12, 13, 15, 16, 18, 19, 20, 21, 22),\n",
       " (1, 2, 3, 4, 5, 6, 7, 8, 9, 10, 11, 12, 13, 15, 17, 18, 19, 20, 21, 22),\n",
       " (1, 2, 3, 4, 5, 6, 7, 8, 9, 10, 11, 12, 14, 15, 16, 17, 18, 19, 20, 21),\n",
       " (1, 2, 3, 4, 5, 6, 7, 8, 9, 10, 11, 12, 14, 15, 16, 17, 18, 19, 20, 22),\n",
       " (1, 2, 3, 4, 5, 6, 7, 8, 9, 10, 11, 12, 14, 15, 16, 17, 18, 19, 21, 22),\n",
       " (1, 2, 3, 4, 5, 6, 7, 8, 9, 10, 11, 12, 14, 15, 16, 17, 18, 20, 21, 22),\n",
       " (1, 2, 3, 4, 5, 6, 7, 8, 9, 10, 11, 12, 14, 15, 16, 17, 19, 20, 21, 22),\n",
       " (1, 2, 3, 4, 5, 6, 7, 8, 9, 10, 11, 12, 14, 15, 16, 18, 19, 20, 21, 22),\n",
       " (1, 2, 3, 4, 5, 6, 7, 8, 9, 10, 11, 12, 14, 15, 17, 18, 19, 20, 21, 22),\n",
       " (1, 2, 3, 4, 5, 6, 7, 8, 9, 10, 11, 12, 14, 16, 17, 18, 19, 20, 21, 22),\n",
       " (1, 2, 3, 4, 5, 6, 7, 8, 9, 10, 11, 13, 14, 15, 16, 17, 18, 19, 20, 21),\n",
       " (1, 2, 3, 4, 5, 6, 7, 8, 9, 10, 11, 13, 14, 15, 16, 17, 18, 19, 20, 22),\n",
       " (1, 2, 3, 4, 5, 6, 7, 8, 9, 10, 11, 13, 14, 15, 16, 17, 18, 19, 21, 22),\n",
       " (1, 2, 3, 4, 5, 6, 7, 8, 9, 10, 11, 13, 14, 15, 16, 17, 18, 20, 21, 22),\n",
       " (1, 2, 3, 4, 5, 6, 7, 8, 9, 10, 11, 13, 14, 15, 16, 17, 19, 20, 21, 22),\n",
       " (1, 2, 3, 4, 5, 6, 7, 8, 9, 10, 11, 13, 14, 15, 16, 18, 19, 20, 21, 22),\n",
       " (1, 2, 3, 4, 5, 6, 7, 8, 9, 10, 11, 13, 14, 15, 17, 18, 19, 20, 21, 22),\n",
       " (1, 2, 3, 4, 5, 6, 7, 8, 9, 10, 11, 13, 14, 16, 17, 18, 19, 20, 21, 22),\n",
       " (1, 2, 3, 4, 5, 6, 7, 8, 9, 10, 11, 13, 15, 16, 17, 18, 19, 20, 21, 22),\n",
       " (1, 2, 3, 4, 5, 6, 7, 8, 9, 10, 12, 13, 14, 15, 16, 17, 18, 19, 20, 21),\n",
       " (1, 2, 3, 4, 5, 6, 7, 8, 9, 10, 12, 13, 14, 15, 16, 17, 18, 19, 20, 22),\n",
       " (1, 2, 3, 4, 5, 6, 7, 8, 9, 10, 12, 13, 14, 15, 16, 17, 18, 19, 21, 22),\n",
       " (1, 2, 3, 4, 5, 6, 7, 8, 9, 10, 12, 13, 14, 15, 16, 17, 18, 20, 21, 22),\n",
       " (1, 2, 3, 4, 5, 6, 7, 8, 9, 10, 12, 13, 14, 15, 16, 17, 19, 20, 21, 22),\n",
       " (1, 2, 3, 4, 5, 6, 7, 8, 9, 10, 12, 13, 14, 15, 16, 18, 19, 20, 21, 22),\n",
       " (1, 2, 3, 4, 5, 6, 7, 8, 9, 10, 12, 13, 14, 15, 17, 18, 19, 20, 21, 22),\n",
       " (1, 2, 3, 4, 5, 6, 7, 8, 9, 10, 12, 13, 14, 16, 17, 18, 19, 20, 21, 22),\n",
       " (1, 2, 3, 4, 5, 6, 7, 8, 9, 10, 12, 13, 15, 16, 17, 18, 19, 20, 21, 22),\n",
       " (1, 2, 3, 4, 5, 6, 7, 8, 9, 10, 12, 14, 15, 16, 17, 18, 19, 20, 21, 22),\n",
       " (1, 2, 3, 4, 5, 6, 7, 8, 9, 10, 13, 14, 15, 16, 17, 18, 19, 20, 21, 22),\n",
       " (1, 2, 3, 4, 5, 6, 7, 8, 9, 11, 12, 13, 14, 15, 16, 17, 18, 19, 20, 21),\n",
       " (1, 2, 3, 4, 5, 6, 7, 8, 9, 11, 12, 13, 14, 15, 16, 17, 18, 19, 20, 22),\n",
       " (1, 2, 3, 4, 5, 6, 7, 8, 9, 11, 12, 13, 14, 15, 16, 17, 18, 19, 21, 22),\n",
       " (1, 2, 3, 4, 5, 6, 7, 8, 9, 11, 12, 13, 14, 15, 16, 17, 18, 20, 21, 22),\n",
       " (1, 2, 3, 4, 5, 6, 7, 8, 9, 11, 12, 13, 14, 15, 16, 17, 19, 20, 21, 22),\n",
       " (1, 2, 3, 4, 5, 6, 7, 8, 9, 11, 12, 13, 14, 15, 16, 18, 19, 20, 21, 22),\n",
       " (1, 2, 3, 4, 5, 6, 7, 8, 9, 11, 12, 13, 14, 15, 17, 18, 19, 20, 21, 22),\n",
       " (1, 2, 3, 4, 5, 6, 7, 8, 9, 11, 12, 13, 14, 16, 17, 18, 19, 20, 21, 22),\n",
       " (1, 2, 3, 4, 5, 6, 7, 8, 9, 11, 12, 13, 15, 16, 17, 18, 19, 20, 21, 22),\n",
       " (1, 2, 3, 4, 5, 6, 7, 8, 9, 11, 12, 14, 15, 16, 17, 18, 19, 20, 21, 22),\n",
       " (1, 2, 3, 4, 5, 6, 7, 8, 9, 11, 13, 14, 15, 16, 17, 18, 19, 20, 21, 22),\n",
       " (1, 2, 3, 4, 5, 6, 7, 8, 10, 11, 12, 13, 14, 15, 16, 17, 18, 19, 20, 21),\n",
       " (1, 2, 3, 4, 5, 6, 7, 8, 10, 11, 12, 13, 14, 15, 16, 17, 18, 19, 20, 22),\n",
       " (1, 2, 3, 4, 5, 6, 7, 8, 10, 11, 12, 13, 14, 15, 16, 17, 18, 19, 21, 22),\n",
       " (1, 2, 3, 4, 5, 6, 7, 8, 10, 11, 12, 13, 14, 15, 16, 17, 18, 20, 21, 22),\n",
       " (1, 2, 3, 4, 5, 6, 7, 8, 10, 11, 12, 13, 14, 15, 16, 17, 19, 20, 21, 22),\n",
       " (1, 2, 3, 4, 5, 6, 7, 8, 10, 11, 12, 13, 14, 15, 16, 18, 19, 20, 21, 22),\n",
       " (1, 2, 3, 4, 5, 6, 7, 8, 10, 11, 12, 13, 14, 15, 17, 18, 19, 20, 21, 22),\n",
       " (1, 2, 3, 4, 5, 6, 7, 8, 10, 11, 12, 13, 14, 16, 17, 18, 19, 20, 21, 22),\n",
       " (1, 2, 3, 4, 5, 6, 7, 8, 10, 11, 12, 13, 15, 16, 17, 18, 19, 20, 21, 22),\n",
       " (1, 2, 3, 4, 5, 6, 7, 8, 10, 11, 12, 14, 15, 16, 17, 18, 19, 20, 21, 22),\n",
       " (1, 2, 3, 4, 5, 6, 7, 8, 10, 11, 13, 14, 15, 16, 17, 18, 19, 20, 21, 22),\n",
       " (1, 2, 3, 4, 5, 6, 7, 8, 10, 12, 13, 14, 15, 16, 17, 18, 19, 20, 21, 22),\n",
       " (1, 2, 3, 4, 5, 6, 7, 9, 10, 11, 12, 13, 14, 15, 16, 17, 18, 19, 20, 21),\n",
       " (1, 2, 3, 4, 5, 6, 7, 9, 10, 11, 12, 13, 14, 15, 16, 17, 18, 19, 20, 22),\n",
       " (1, 2, 3, 4, 5, 6, 7, 9, 10, 11, 12, 13, 14, 15, 16, 17, 18, 19, 21, 22),\n",
       " (1, 2, 3, 4, 5, 6, 7, 9, 10, 11, 12, 13, 14, 15, 16, 17, 18, 20, 21, 22),\n",
       " (1, 2, 3, 4, 5, 6, 7, 9, 10, 11, 12, 13, 14, 15, 16, 17, 19, 20, 21, 22),\n",
       " (1, 2, 3, 4, 5, 6, 7, 9, 10, 11, 12, 13, 14, 15, 16, 18, 19, 20, 21, 22),\n",
       " (1, 2, 3, 4, 5, 6, 7, 9, 10, 11, 12, 13, 14, 15, 17, 18, 19, 20, 21, 22),\n",
       " (1, 2, 3, 4, 5, 6, 7, 9, 10, 11, 12, 13, 14, 16, 17, 18, 19, 20, 21, 22),\n",
       " (1, 2, 3, 4, 5, 6, 7, 9, 10, 11, 12, 13, 15, 16, 17, 18, 19, 20, 21, 22),\n",
       " (1, 2, 3, 4, 5, 6, 7, 9, 10, 11, 12, 14, 15, 16, 17, 18, 19, 20, 21, 22),\n",
       " (1, 2, 3, 4, 5, 6, 7, 9, 10, 11, 13, 14, 15, 16, 17, 18, 19, 20, 21, 22),\n",
       " (1, 2, 3, 4, 5, 6, 7, 9, 10, 12, 13, 14, 15, 16, 17, 18, 19, 20, 21, 22),\n",
       " (1, 2, 3, 4, 5, 6, 7, 9, 11, 12, 13, 14, 15, 16, 17, 18, 19, 20, 21, 22),\n",
       " (1, 2, 3, 4, 5, 6, 8, 9, 10, 11, 12, 13, 14, 15, 16, 17, 18, 19, 20, 21),\n",
       " (1, 2, 3, 4, 5, 6, 8, 9, 10, 11, 12, 13, 14, 15, 16, 17, 18, 19, 20, 22),\n",
       " (1, 2, 3, 4, 5, 6, 8, 9, 10, 11, 12, 13, 14, 15, 16, 17, 18, 19, 21, 22),\n",
       " (1, 2, 3, 4, 5, 6, 8, 9, 10, 11, 12, 13, 14, 15, 16, 17, 18, 20, 21, 22),\n",
       " (1, 2, 3, 4, 5, 6, 8, 9, 10, 11, 12, 13, 14, 15, 16, 17, 19, 20, 21, 22),\n",
       " (1, 2, 3, 4, 5, 6, 8, 9, 10, 11, 12, 13, 14, 15, 16, 18, 19, 20, 21, 22),\n",
       " (1, 2, 3, 4, 5, 6, 8, 9, 10, 11, 12, 13, 14, 15, 17, 18, 19, 20, 21, 22),\n",
       " (1, 2, 3, 4, 5, 6, 8, 9, 10, 11, 12, 13, 14, 16, 17, 18, 19, 20, 21, 22),\n",
       " (1, 2, 3, 4, 5, 6, 8, 9, 10, 11, 12, 13, 15, 16, 17, 18, 19, 20, 21, 22),\n",
       " (1, 2, 3, 4, 5, 6, 8, 9, 10, 11, 12, 14, 15, 16, 17, 18, 19, 20, 21, 22),\n",
       " (1, 2, 3, 4, 5, 6, 8, 9, 10, 11, 13, 14, 15, 16, 17, 18, 19, 20, 21, 22),\n",
       " (1, 2, 3, 4, 5, 6, 8, 9, 10, 12, 13, 14, 15, 16, 17, 18, 19, 20, 21, 22),\n",
       " (1, 2, 3, 4, 5, 6, 8, 9, 11, 12, 13, 14, 15, 16, 17, 18, 19, 20, 21, 22),\n",
       " (1, 2, 3, 4, 5, 6, 8, 10, 11, 12, 13, 14, 15, 16, 17, 18, 19, 20, 21, 22),\n",
       " (1, 2, 3, 4, 5, 7, 8, 9, 10, 11, 12, 13, 14, 15, 16, 17, 18, 19, 20, 21),\n",
       " (1, 2, 3, 4, 5, 7, 8, 9, 10, 11, 12, 13, 14, 15, 16, 17, 18, 19, 20, 22),\n",
       " (1, 2, 3, 4, 5, 7, 8, 9, 10, 11, 12, 13, 14, 15, 16, 17, 18, 19, 21, 22),\n",
       " (1, 2, 3, 4, 5, 7, 8, 9, 10, 11, 12, 13, 14, 15, 16, 17, 18, 20, 21, 22),\n",
       " (1, 2, 3, 4, 5, 7, 8, 9, 10, 11, 12, 13, 14, 15, 16, 17, 19, 20, 21, 22),\n",
       " (1, 2, 3, 4, 5, 7, 8, 9, 10, 11, 12, 13, 14, 15, 16, 18, 19, 20, 21, 22),\n",
       " (1, 2, 3, 4, 5, 7, 8, 9, 10, 11, 12, 13, 14, 15, 17, 18, 19, 20, 21, 22),\n",
       " (1, 2, 3, 4, 5, 7, 8, 9, 10, 11, 12, 13, 14, 16, 17, 18, 19, 20, 21, 22),\n",
       " (1, 2, 3, 4, 5, 7, 8, 9, 10, 11, 12, 13, 15, 16, 17, 18, 19, 20, 21, 22),\n",
       " (1, 2, 3, 4, 5, 7, 8, 9, 10, 11, 12, 14, 15, 16, 17, 18, 19, 20, 21, 22),\n",
       " (1, 2, 3, 4, 5, 7, 8, 9, 10, 11, 13, 14, 15, 16, 17, 18, 19, 20, 21, 22),\n",
       " (1, 2, 3, 4, 5, 7, 8, 9, 10, 12, 13, 14, 15, 16, 17, 18, 19, 20, 21, 22),\n",
       " (1, 2, 3, 4, 5, 7, 8, 9, 11, 12, 13, 14, 15, 16, 17, 18, 19, 20, 21, 22),\n",
       " (1, 2, 3, 4, 5, 7, 8, 10, 11, 12, 13, 14, 15, 16, 17, 18, 19, 20, 21, 22),\n",
       " (1, 2, 3, 4, 5, 7, 9, 10, 11, 12, 13, 14, 15, 16, 17, 18, 19, 20, 21, 22),\n",
       " (1, 2, 3, 4, 6, 7, 8, 9, 10, 11, 12, 13, 14, 15, 16, 17, 18, 19, 20, 21),\n",
       " (1, 2, 3, 4, 6, 7, 8, 9, 10, 11, 12, 13, 14, 15, 16, 17, 18, 19, 20, 22),\n",
       " (1, 2, 3, 4, 6, 7, 8, 9, 10, 11, 12, 13, 14, 15, 16, 17, 18, 19, 21, 22),\n",
       " (1, 2, 3, 4, 6, 7, 8, 9, 10, 11, 12, 13, 14, 15, 16, 17, 18, 20, 21, 22),\n",
       " (1, 2, 3, 4, 6, 7, 8, 9, 10, 11, 12, 13, 14, 15, 16, 17, 19, 20, 21, 22),\n",
       " (1, 2, 3, 4, 6, 7, 8, 9, 10, 11, 12, 13, 14, 15, 16, 18, 19, 20, 21, 22),\n",
       " (1, 2, 3, 4, 6, 7, 8, 9, 10, 11, 12, 13, 14, 15, 17, 18, 19, 20, 21, 22),\n",
       " (1, 2, 3, 4, 6, 7, 8, 9, 10, 11, 12, 13, 14, 16, 17, 18, 19, 20, 21, 22),\n",
       " (1, 2, 3, 4, 6, 7, 8, 9, 10, 11, 12, 13, 15, 16, 17, 18, 19, 20, 21, 22),\n",
       " (1, 2, 3, 4, 6, 7, 8, 9, 10, 11, 12, 14, 15, 16, 17, 18, 19, 20, 21, 22),\n",
       " (1, 2, 3, 4, 6, 7, 8, 9, 10, 11, 13, 14, 15, 16, 17, 18, 19, 20, 21, 22),\n",
       " (1, 2, 3, 4, 6, 7, 8, 9, 10, 12, 13, 14, 15, 16, 17, 18, 19, 20, 21, 22),\n",
       " (1, 2, 3, 4, 6, 7, 8, 9, 11, 12, 13, 14, 15, 16, 17, 18, 19, 20, 21, 22),\n",
       " (1, 2, 3, 4, 6, 7, 8, 10, 11, 12, 13, 14, 15, 16, 17, 18, 19, 20, 21, 22),\n",
       " (1, 2, 3, 4, 6, 7, 9, 10, 11, 12, 13, 14, 15, 16, 17, 18, 19, 20, 21, 22),\n",
       " (1, 2, 3, 4, 6, 8, 9, 10, 11, 12, 13, 14, 15, 16, 17, 18, 19, 20, 21, 22),\n",
       " (1, 2, 3, 5, 6, 7, 8, 9, 10, 11, 12, 13, 14, 15, 16, 17, 18, 19, 20, 21),\n",
       " (1, 2, 3, 5, 6, 7, 8, 9, 10, 11, 12, 13, 14, 15, 16, 17, 18, 19, 20, 22),\n",
       " (1, 2, 3, 5, 6, 7, 8, 9, 10, 11, 12, 13, 14, 15, 16, 17, 18, 19, 21, 22),\n",
       " (1, 2, 3, 5, 6, 7, 8, 9, 10, 11, 12, 13, 14, 15, 16, 17, 18, 20, 21, 22),\n",
       " (1, 2, 3, 5, 6, 7, 8, 9, 10, 11, 12, 13, 14, 15, 16, 17, 19, 20, 21, 22),\n",
       " (1, 2, 3, 5, 6, 7, 8, 9, 10, 11, 12, 13, 14, 15, 16, 18, 19, 20, 21, 22),\n",
       " (1, 2, 3, 5, 6, 7, 8, 9, 10, 11, 12, 13, 14, 15, 17, 18, 19, 20, 21, 22),\n",
       " (1, 2, 3, 5, 6, 7, 8, 9, 10, 11, 12, 13, 14, 16, 17, 18, 19, 20, 21, 22),\n",
       " (1, 2, 3, 5, 6, 7, 8, 9, 10, 11, 12, 13, 15, 16, 17, 18, 19, 20, 21, 22),\n",
       " (1, 2, 3, 5, 6, 7, 8, 9, 10, 11, 12, 14, 15, 16, 17, 18, 19, 20, 21, 22),\n",
       " (1, 2, 3, 5, 6, 7, 8, 9, 10, 11, 13, 14, 15, 16, 17, 18, 19, 20, 21, 22),\n",
       " (1, 2, 3, 5, 6, 7, 8, 9, 10, 12, 13, 14, 15, 16, 17, 18, 19, 20, 21, 22),\n",
       " (1, 2, 3, 5, 6, 7, 8, 9, 11, 12, 13, 14, 15, 16, 17, 18, 19, 20, 21, 22),\n",
       " (1, 2, 3, 5, 6, 7, 8, 10, 11, 12, 13, 14, 15, 16, 17, 18, 19, 20, 21, 22),\n",
       " (1, 2, 3, 5, 6, 7, 9, 10, 11, 12, 13, 14, 15, 16, 17, 18, 19, 20, 21, 22),\n",
       " (1, 2, 3, 5, 6, 8, 9, 10, 11, 12, 13, 14, 15, 16, 17, 18, 19, 20, 21, 22),\n",
       " (1, 2, 3, 5, 7, 8, 9, 10, 11, 12, 13, 14, 15, 16, 17, 18, 19, 20, 21, 22),\n",
       " (1, 2, 4, 5, 6, 7, 8, 9, 10, 11, 12, 13, 14, 15, 16, 17, 18, 19, 20, 21),\n",
       " (1, 2, 4, 5, 6, 7, 8, 9, 10, 11, 12, 13, 14, 15, 16, 17, 18, 19, 20, 22),\n",
       " (1, 2, 4, 5, 6, 7, 8, 9, 10, 11, 12, 13, 14, 15, 16, 17, 18, 19, 21, 22),\n",
       " (1, 2, 4, 5, 6, 7, 8, 9, 10, 11, 12, 13, 14, 15, 16, 17, 18, 20, 21, 22),\n",
       " (1, 2, 4, 5, 6, 7, 8, 9, 10, 11, 12, 13, 14, 15, 16, 17, 19, 20, 21, 22),\n",
       " (1, 2, 4, 5, 6, 7, 8, 9, 10, 11, 12, 13, 14, 15, 16, 18, 19, 20, 21, 22),\n",
       " (1, 2, 4, 5, 6, 7, 8, 9, 10, 11, 12, 13, 14, 15, 17, 18, 19, 20, 21, 22),\n",
       " (1, 2, 4, 5, 6, 7, 8, 9, 10, 11, 12, 13, 14, 16, 17, 18, 19, 20, 21, 22),\n",
       " (1, 2, 4, 5, 6, 7, 8, 9, 10, 11, 12, 13, 15, 16, 17, 18, 19, 20, 21, 22),\n",
       " (1, 2, 4, 5, 6, 7, 8, 9, 10, 11, 12, 14, 15, 16, 17, 18, 19, 20, 21, 22),\n",
       " (1, 2, 4, 5, 6, 7, 8, 9, 10, 11, 13, 14, 15, 16, 17, 18, 19, 20, 21, 22),\n",
       " (1, 2, 4, 5, 6, 7, 8, 9, 10, 12, 13, 14, 15, 16, 17, 18, 19, 20, 21, 22),\n",
       " (1, 2, 4, 5, 6, 7, 8, 9, 11, 12, 13, 14, 15, 16, 17, 18, 19, 20, 21, 22),\n",
       " (1, 2, 4, 5, 6, 7, 8, 10, 11, 12, 13, 14, 15, 16, 17, 18, 19, 20, 21, 22),\n",
       " (1, 2, 4, 5, 6, 7, 9, 10, 11, 12, 13, 14, 15, 16, 17, 18, 19, 20, 21, 22),\n",
       " (1, 2, 4, 5, 6, 8, 9, 10, 11, 12, 13, 14, 15, 16, 17, 18, 19, 20, 21, 22),\n",
       " (1, 2, 4, 5, 7, 8, 9, 10, 11, 12, 13, 14, 15, 16, 17, 18, 19, 20, 21, 22),\n",
       " (1, 2, 4, 6, 7, 8, 9, 10, 11, 12, 13, 14, 15, 16, 17, 18, 19, 20, 21, 22),\n",
       " (1, 3, 4, 5, 6, 7, 8, 9, 10, 11, 12, 13, 14, 15, 16, 17, 18, 19, 20, 21),\n",
       " (1, 3, 4, 5, 6, 7, 8, 9, 10, 11, 12, 13, 14, 15, 16, 17, 18, 19, 20, 22),\n",
       " (1, 3, 4, 5, 6, 7, 8, 9, 10, 11, 12, 13, 14, 15, 16, 17, 18, 19, 21, 22),\n",
       " (1, 3, 4, 5, 6, 7, 8, 9, 10, 11, 12, 13, 14, 15, 16, 17, 18, 20, 21, 22),\n",
       " (1, 3, 4, 5, 6, 7, 8, 9, 10, 11, 12, 13, 14, 15, 16, 17, 19, 20, 21, 22),\n",
       " (1, 3, 4, 5, 6, 7, 8, 9, 10, 11, 12, 13, 14, 15, 16, 18, 19, 20, 21, 22),\n",
       " (1, 3, 4, 5, 6, 7, 8, 9, 10, 11, 12, 13, 14, 15, 17, 18, 19, 20, 21, 22),\n",
       " (1, 3, 4, 5, 6, 7, 8, 9, 10, 11, 12, 13, 14, 16, 17, 18, 19, 20, 21, 22),\n",
       " (1, 3, 4, 5, 6, 7, 8, 9, 10, 11, 12, 13, 15, 16, 17, 18, 19, 20, 21, 22),\n",
       " (1, 3, 4, 5, 6, 7, 8, 9, 10, 11, 12, 14, 15, 16, 17, 18, 19, 20, 21, 22),\n",
       " (1, 3, 4, 5, 6, 7, 8, 9, 10, 11, 13, 14, 15, 16, 17, 18, 19, 20, 21, 22),\n",
       " (1, 3, 4, 5, 6, 7, 8, 9, 10, 12, 13, 14, 15, 16, 17, 18, 19, 20, 21, 22),\n",
       " (1, 3, 4, 5, 6, 7, 8, 9, 11, 12, 13, 14, 15, 16, 17, 18, 19, 20, 21, 22),\n",
       " (1, 3, 4, 5, 6, 7, 8, 10, 11, 12, 13, 14, 15, 16, 17, 18, 19, 20, 21, 22),\n",
       " (1, 3, 4, 5, 6, 7, 9, 10, 11, 12, 13, 14, 15, 16, 17, 18, 19, 20, 21, 22),\n",
       " (1, 3, 4, 5, 6, 8, 9, 10, 11, 12, 13, 14, 15, 16, 17, 18, 19, 20, 21, 22),\n",
       " (1, 3, 4, 5, 7, 8, 9, 10, 11, 12, 13, 14, 15, 16, 17, 18, 19, 20, 21, 22),\n",
       " (1, 3, 4, 6, 7, 8, 9, 10, 11, 12, 13, 14, 15, 16, 17, 18, 19, 20, 21, 22),\n",
       " (1, 3, 5, 6, 7, 8, 9, 10, 11, 12, 13, 14, 15, 16, 17, 18, 19, 20, 21, 22),\n",
       " (2, 3, 4, 5, 6, 7, 8, 9, 10, 11, 12, 13, 14, 15, 16, 17, 18, 19, 20, 21),\n",
       " (2, 3, 4, 5, 6, 7, 8, 9, 10, 11, 12, 13, 14, 15, 16, 17, 18, 19, 20, 22),\n",
       " (2, 3, 4, 5, 6, 7, 8, 9, 10, 11, 12, 13, 14, 15, 16, 17, 18, 19, 21, 22),\n",
       " (2, 3, 4, 5, 6, 7, 8, 9, 10, 11, 12, 13, 14, 15, 16, 17, 18, 20, 21, 22),\n",
       " (2, 3, 4, 5, 6, 7, 8, 9, 10, 11, 12, 13, 14, 15, 16, 17, 19, 20, 21, 22),\n",
       " (2, 3, 4, 5, 6, 7, 8, 9, 10, 11, 12, 13, 14, 15, 16, 18, 19, 20, 21, 22),\n",
       " (2, 3, 4, 5, 6, 7, 8, 9, 10, 11, 12, 13, 14, 15, 17, 18, 19, 20, 21, 22),\n",
       " (2, 3, 4, 5, 6, 7, 8, 9, 10, 11, 12, 13, 14, 16, 17, 18, 19, 20, 21, 22),\n",
       " (2, 3, 4, 5, 6, 7, 8, 9, 10, 11, 12, 13, 15, 16, 17, 18, 19, 20, 21, 22),\n",
       " (2, 3, 4, 5, 6, 7, 8, 9, 10, 11, 12, 14, 15, 16, 17, 18, 19, 20, 21, 22),\n",
       " (2, 3, 4, 5, 6, 7, 8, 9, 10, 11, 13, 14, 15, 16, 17, 18, 19, 20, 21, 22),\n",
       " (2, 3, 4, 5, 6, 7, 8, 9, 10, 12, 13, 14, 15, 16, 17, 18, 19, 20, 21, 22),\n",
       " (2, 3, 4, 5, 6, 7, 8, 9, 11, 12, 13, 14, 15, 16, 17, 18, 19, 20, 21, 22),\n",
       " (2, 3, 4, 5, 6, 7, 8, 10, 11, 12, 13, 14, 15, 16, 17, 18, 19, 20, 21, 22),\n",
       " (2, 3, 4, 5, 6, 7, 9, 10, 11, 12, 13, 14, 15, 16, 17, 18, 19, 20, 21, 22),\n",
       " (2, 3, 4, 5, 6, 8, 9, 10, 11, 12, 13, 14, 15, 16, 17, 18, 19, 20, 21, 22),\n",
       " (2, 3, 4, 5, 7, 8, 9, 10, 11, 12, 13, 14, 15, 16, 17, 18, 19, 20, 21, 22),\n",
       " (2, 3, 4, 6, 7, 8, 9, 10, 11, 12, 13, 14, 15, 16, 17, 18, 19, 20, 21, 22),\n",
       " (2, 3, 5, 6, 7, 8, 9, 10, 11, 12, 13, 14, 15, 16, 17, 18, 19, 20, 21, 22),\n",
       " (2, 4, 5, 6, 7, 8, 9, 10, 11, 12, 13, 14, 15, 16, 17, 18, 19, 20, 21, 22)]"
      ]
     },
     "execution_count": 23,
     "metadata": {},
     "output_type": "execute_result"
    }
   ],
   "source": [
    "sorted(X1.facets())"
   ]
  },
  {
   "cell_type": "code",
   "execution_count": 25,
   "id": "afeba220",
   "metadata": {},
   "outputs": [
    {
     "data": {
      "text/plain": [
       "{0: Vector space of dimension 0 over Finite Field of size 2,\n",
       " 1: Vector space of dimension 0 over Finite Field of size 2,\n",
       " 2: Vector space of dimension 0 over Finite Field of size 2,\n",
       " 3: Vector space of dimension 0 over Finite Field of size 2,\n",
       " 4: Vector space of dimension 0 over Finite Field of size 2,\n",
       " 5: Vector space of dimension 0 over Finite Field of size 2,\n",
       " 6: Vector space of dimension 0 over Finite Field of size 2,\n",
       " 7: Vector space of dimension 0 over Finite Field of size 2,\n",
       " 8: Vector space of dimension 0 over Finite Field of size 2,\n",
       " 9: Vector space of dimension 0 over Finite Field of size 2,\n",
       " 10: Vector space of dimension 0 over Finite Field of size 2,\n",
       " 11: Vector space of dimension 0 over Finite Field of size 2,\n",
       " 12: Vector space of dimension 0 over Finite Field of size 2,\n",
       " 13: Vector space of dimension 0 over Finite Field of size 2,\n",
       " 14: Vector space of dimension 0 over Finite Field of size 2,\n",
       " 15: Vector space of dimension 0 over Finite Field of size 2,\n",
       " 16: Vector space of dimension 0 over Finite Field of size 2,\n",
       " 17: Vector space of dimension 0 over Finite Field of size 2,\n",
       " 18: Vector space of dimension 0 over Finite Field of size 2,\n",
       " 19: Vector space of dimension 1 over Finite Field of size 2}"
      ]
     },
     "execution_count": 25,
     "metadata": {},
     "output_type": "execute_result"
    }
   ],
   "source": [
    "X1.homology(base_ring = GF(2))"
   ]
  },
  {
   "cell_type": "code",
   "execution_count": 18,
   "id": "cfb6489e",
   "metadata": {},
   "outputs": [],
   "source": [
    "X1.homology?"
   ]
  },
  {
   "cell_type": "code",
   "execution_count": null,
   "id": "e49755ac",
   "metadata": {},
   "outputs": [],
   "source": []
  },
  {
   "cell_type": "code",
   "execution_count": 38,
   "id": "90c46391",
   "metadata": {
    "scrolled": false
   },
   "outputs": [
    {
     "name": "stdout",
     "output_type": "stream",
     "text": [
      "2 37 {0: Vector space of dimension 0 over Finite Field of size 2, 1: Vector space of dimension 0 over Finite Field of size 2, 2: Vector space of dimension 0 over Finite Field of size 2, 3: Vector space of dimension 0 over Finite Field of size 2, 4: Vector space of dimension 0 over Finite Field of size 2, 5: Vector space of dimension 0 over Finite Field of size 2, 6: Vector space of dimension 0 over Finite Field of size 2, 7: Vector space of dimension 1 over Finite Field of size 2}\n",
      "True\n",
      "3 114 {0: Vector space of dimension 0 over Finite Field of size 2, 1: Vector space of dimension 0 over Finite Field of size 2, 2: Vector space of dimension 0 over Finite Field of size 2, 3: Vector space of dimension 0 over Finite Field of size 2, 4: Vector space of dimension 0 over Finite Field of size 2, 5: Vector space of dimension 0 over Finite Field of size 2, 6: Vector space of dimension 30 over Finite Field of size 2}\n",
      "True\n",
      "4 206 {0: Vector space of dimension 0 over Finite Field of size 2, 1: Vector space of dimension 0 over Finite Field of size 2, 2: Vector space of dimension 0 over Finite Field of size 2, 3: Vector space of dimension 0 over Finite Field of size 2, 4: Vector space of dimension 0 over Finite Field of size 2, 5: Vector space of dimension 80 over Finite Field of size 2}\n",
      "True\n",
      "5 250 {0: Vector space of dimension 0 over Finite Field of size 2, 1: Vector space of dimension 0 over Finite Field of size 2, 2: Vector space of dimension 0 over Finite Field of size 2, 3: Vector space of dimension 0 over Finite Field of size 2, 4: Vector space of dimension 124 over Finite Field of size 2}\n",
      "True\n"
     ]
    }
   ],
   "source": [
    "for j in range(2,6):\n",
    "    G1 = hexagonal_tiling_1k(2)\n",
    "    X1 = cutcomplex_k(G1,j)\n",
    "    print(j, len(X1.facets()), X1.homology(base_ring = GF(2)))\n",
    "    print(X1.is_shellable())\n",
    "\n",
    "#X1.is_shellable()\n",
    "\n",
    "#len(X1.facets()), sorted(X1.facets())"
   ]
  },
  {
   "cell_type": "code",
   "execution_count": 40,
   "id": "3308f71f",
   "metadata": {},
   "outputs": [
    {
     "name": "stdout",
     "output_type": "stream",
     "text": [
      "2 79 {0: Vector space of dimension 0 over Finite Field of size 2, 1: Vector space of dimension 0 over Finite Field of size 2, 2: Vector space of dimension 0 over Finite Field of size 2, 3: Vector space of dimension 0 over Finite Field of size 2, 4: Vector space of dimension 0 over Finite Field of size 2, 5: Vector space of dimension 0 over Finite Field of size 2, 6: Vector space of dimension 0 over Finite Field of size 2, 7: Vector space of dimension 0 over Finite Field of size 2, 8: Vector space of dimension 0 over Finite Field of size 2, 9: Vector space of dimension 0 over Finite Field of size 2, 10: Vector space of dimension 0 over Finite Field of size 2, 11: Vector space of dimension 1 over Finite Field of size 2}\n",
      "3 354 {0: Vector space of dimension 0 over Finite Field of size 2, 1: Vector space of dimension 0 over Finite Field of size 2, 2: Vector space of dimension 0 over Finite Field of size 2, 3: Vector space of dimension 0 over Finite Field of size 2, 4: Vector space of dimension 0 over Finite Field of size 2, 5: Vector space of dimension 0 over Finite Field of size 2, 6: Vector space of dimension 0 over Finite Field of size 2, 7: Vector space of dimension 0 over Finite Field of size 2, 8: Vector space of dimension 0 over Finite Field of size 2, 9: Vector space of dimension 0 over Finite Field of size 2, 10: Vector space of dimension 68 over Finite Field of size 2}\n",
      "4 993 {0: Vector space of dimension 0 over Finite Field of size 2, 1: Vector space of dimension 0 over Finite Field of size 2, 2: Vector space of dimension 0 over Finite Field of size 2, 3: Vector space of dimension 0 over Finite Field of size 2, 4: Vector space of dimension 0 over Finite Field of size 2, 5: Vector space of dimension 0 over Finite Field of size 2, 6: Vector space of dimension 0 over Finite Field of size 2, 7: Vector space of dimension 0 over Finite Field of size 2, 8: Vector space of dimension 0 over Finite Field of size 2, 9: Vector space of dimension 278 over Finite Field of size 2}\n",
      "5 1996 {0: Vector space of dimension 0 over Finite Field of size 2, 1: Vector space of dimension 0 over Finite Field of size 2, 2: Vector space of dimension 0 over Finite Field of size 2, 3: Vector space of dimension 0 over Finite Field of size 2, 4: Vector space of dimension 0 over Finite Field of size 2, 5: Vector space of dimension 0 over Finite Field of size 2, 6: Vector space of dimension 0 over Finite Field of size 2, 7: Vector space of dimension 0 over Finite Field of size 2, 8: Vector space of dimension 709 over Finite Field of size 2}\n",
      "6 2999 {0: Vector space of dimension 0 over Finite Field of size 2, 1: Vector space of dimension 0 over Finite Field of size 2, 2: Vector space of dimension 0 over Finite Field of size 2, 3: Vector space of dimension 0 over Finite Field of size 2, 4: Vector space of dimension 0 over Finite Field of size 2, 5: Vector space of dimension 0 over Finite Field of size 2, 6: Vector space of dimension 0 over Finite Field of size 2, 7: Vector space of dimension 1283 over Finite Field of size 2}\n",
      "7 3430 {0: Vector space of dimension 0 over Finite Field of size 2, 1: Vector space of dimension 0 over Finite Field of size 2, 2: Vector space of dimension 0 over Finite Field of size 2, 3: Vector space of dimension 0 over Finite Field of size 2, 4: Vector space of dimension 0 over Finite Field of size 2, 5: Vector space of dimension 0 over Finite Field of size 2, 6: Vector space of dimension 1714 over Finite Field of size 2}\n"
     ]
    }
   ],
   "source": [
    "for j in range(2,8):\n",
    "    G1 = hexagonal_tiling_1k(3)\n",
    "    X1 = cutcomplex_k(G1,j)\n",
    "    print(j, len(X1.facets()), X1.homology(base_ring = GF(2)))\n",
    "    #print(X1.is_shellable())\n",
    "\n",
    "#X1.is_shellable()\n",
    "\n",
    "#len(X1.facets()), sorted(X1.facets())"
   ]
  },
  {
   "cell_type": "code",
   "execution_count": null,
   "id": "8e3e3036",
   "metadata": {},
   "outputs": [],
   "source": []
  }
 ],
 "metadata": {
  "kernelspec": {
   "display_name": "SageMath 9.5",
   "language": "sage",
   "name": "sagemath"
  },
  "language_info": {
   "codemirror_mode": {
    "name": "ipython",
    "version": 3
   },
   "file_extension": ".py",
   "mimetype": "text/x-python",
   "name": "python",
   "nbconvert_exporter": "python",
   "pygments_lexer": "ipython3",
   "version": "3.10.12"
  }
 },
 "nbformat": 4,
 "nbformat_minor": 5
}
